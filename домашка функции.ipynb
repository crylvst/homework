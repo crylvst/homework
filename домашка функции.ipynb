{
 "cells": [
  {
   "cell_type": "code",
   "execution_count": null,
   "id": "f167aac9",
   "metadata": {},
   "outputs": [],
   "source": [
    "Необходимо реализовать пользовательские команды, которые будут выполнять следующие функции:\n",
    "    ● p – people — команда, которая спросит номер документа и выведет имя человека, которому он принадлежит;\n",
    "    ● s – shelf — команда, которая спросит номер документа и выведет номер полки, на которой он находится;\n",
    "Правильно обработайте ситуации, когда пользователь будет вводить несуществующий документ.\n",
    "    ● l – list — команда, которая выведет список всех документов в формате passport \"2207 876234\" \"Василий Гупкин\";\n",
    "    ● a – add — команда, которая добавит новый документ в каталог и в перечень полок, спросив его номер, тип,\n",
    "    имя владельца и номер полки, на котором он будет храниться.\n",
    "    \n",
    "Корректно обработайте ситуацию, когда пользователь будет пытаться добавить документ на несуществующую.\n",
    "\n",
    "Внимание: p, s, l, a - это пользовательские команды, а не названия функций.\n",
    "Функции должны иметь выразительное название, передающие её действие."
   ]
  },
  {
   "cell_type": "code",
   "execution_count": 22,
   "id": "c40c4096",
   "metadata": {},
   "outputs": [],
   "source": [
    "documents = [\n",
    "    {'type': 'passport', 'number': '2207 876234', 'name': 'Василий Гупкин'},\n",
    "    {'type': 'invoice', 'number': '11-2', 'name': 'Геннадий Покемонов'},\n",
    "    {'type': 'insurance', 'number': '10006', 'name': 'Аристарх Павлов'}\n",
    "]\n",
    "\n",
    "directories = {\n",
    "    '1': ['2207 876234', '11-2', '5455 028765'],\n",
    "    '2': ['10006'],\n",
    "    '3': []\n",
    "}"
   ]
  },
  {
   "cell_type": "code",
   "execution_count": 24,
   "id": "997fd620",
   "metadata": {
    "collapsed": true
   },
   "outputs": [
    {
     "ename": "KeyboardInterrupt",
     "evalue": "Interrupted by user",
     "output_type": "error",
     "traceback": [
      "\u001b[1;31m---------------------------------------------------------------------------\u001b[0m",
      "\u001b[1;31mKeyboardInterrupt\u001b[0m                         Traceback (most recent call last)",
      "\u001b[1;32m<ipython-input-24-a997ca1b64b8>\u001b[0m in \u001b[0;36m<module>\u001b[1;34m\u001b[0m\n\u001b[1;32m----> 1\u001b[1;33m \u001b[1;32mdef\u001b[0m \u001b[0mget_name\u001b[0m\u001b[1;33m(\u001b[0m\u001b[0mdoc_number\u001b[0m \u001b[1;33m=\u001b[0m \u001b[0minput\u001b[0m\u001b[1;33m(\u001b[0m\u001b[1;34m'Введите номер документа, чтобы узнать имя владельца: '\u001b[0m\u001b[1;33m)\u001b[0m\u001b[1;33m)\u001b[0m\u001b[1;33m:\u001b[0m\u001b[1;33m\u001b[0m\u001b[1;33m\u001b[0m\u001b[0m\n\u001b[0m\u001b[0;32m      2\u001b[0m     \u001b[1;32mfor\u001b[0m \u001b[0mitem\u001b[0m \u001b[1;32min\u001b[0m \u001b[0mrange\u001b[0m\u001b[1;33m(\u001b[0m\u001b[0mlen\u001b[0m\u001b[1;33m(\u001b[0m\u001b[0mdocuments\u001b[0m\u001b[1;33m)\u001b[0m\u001b[1;33m)\u001b[0m\u001b[1;33m:\u001b[0m\u001b[1;33m\u001b[0m\u001b[1;33m\u001b[0m\u001b[0m\n\u001b[0;32m      3\u001b[0m         \u001b[1;32mif\u001b[0m \u001b[0mdocuments\u001b[0m\u001b[1;33m[\u001b[0m\u001b[0mitem\u001b[0m\u001b[1;33m]\u001b[0m\u001b[1;33m[\u001b[0m\u001b[1;34m'number'\u001b[0m\u001b[1;33m]\u001b[0m \u001b[1;33m==\u001b[0m \u001b[0mdoc_number\u001b[0m\u001b[1;33m:\u001b[0m\u001b[1;33m\u001b[0m\u001b[1;33m\u001b[0m\u001b[0m\n\u001b[0;32m      4\u001b[0m             \u001b[1;32mreturn\u001b[0m \u001b[0mdocuments\u001b[0m\u001b[1;33m[\u001b[0m\u001b[0mitem\u001b[0m\u001b[1;33m]\u001b[0m\u001b[1;33m[\u001b[0m\u001b[1;34m'name'\u001b[0m\u001b[1;33m]\u001b[0m\u001b[1;33m\u001b[0m\u001b[1;33m\u001b[0m\u001b[0m\n\u001b[0;32m      5\u001b[0m     \u001b[1;32melse\u001b[0m\u001b[1;33m:\u001b[0m\u001b[1;33m\u001b[0m\u001b[1;33m\u001b[0m\u001b[0m\n",
      "\u001b[1;32m~\\anaconda3\\lib\\site-packages\\ipykernel\\kernelbase.py\u001b[0m in \u001b[0;36mraw_input\u001b[1;34m(self, prompt)\u001b[0m\n\u001b[0;32m    858\u001b[0m                 \u001b[1;34m\"raw_input was called, but this frontend does not support input requests.\"\u001b[0m\u001b[1;33m\u001b[0m\u001b[1;33m\u001b[0m\u001b[0m\n\u001b[0;32m    859\u001b[0m             )\n\u001b[1;32m--> 860\u001b[1;33m         return self._input_request(str(prompt),\n\u001b[0m\u001b[0;32m    861\u001b[0m             \u001b[0mself\u001b[0m\u001b[1;33m.\u001b[0m\u001b[0m_parent_ident\u001b[0m\u001b[1;33m,\u001b[0m\u001b[1;33m\u001b[0m\u001b[1;33m\u001b[0m\u001b[0m\n\u001b[0;32m    862\u001b[0m             \u001b[0mself\u001b[0m\u001b[1;33m.\u001b[0m\u001b[0m_parent_header\u001b[0m\u001b[1;33m,\u001b[0m\u001b[1;33m\u001b[0m\u001b[1;33m\u001b[0m\u001b[0m\n",
      "\u001b[1;32m~\\anaconda3\\lib\\site-packages\\ipykernel\\kernelbase.py\u001b[0m in \u001b[0;36m_input_request\u001b[1;34m(self, prompt, ident, parent, password)\u001b[0m\n\u001b[0;32m    902\u001b[0m             \u001b[1;32mexcept\u001b[0m \u001b[0mKeyboardInterrupt\u001b[0m\u001b[1;33m:\u001b[0m\u001b[1;33m\u001b[0m\u001b[1;33m\u001b[0m\u001b[0m\n\u001b[0;32m    903\u001b[0m                 \u001b[1;31m# re-raise KeyboardInterrupt, to truncate traceback\u001b[0m\u001b[1;33m\u001b[0m\u001b[1;33m\u001b[0m\u001b[1;33m\u001b[0m\u001b[0m\n\u001b[1;32m--> 904\u001b[1;33m                 \u001b[1;32mraise\u001b[0m \u001b[0mKeyboardInterrupt\u001b[0m\u001b[1;33m(\u001b[0m\u001b[1;34m\"Interrupted by user\"\u001b[0m\u001b[1;33m)\u001b[0m \u001b[1;32mfrom\u001b[0m \u001b[1;32mNone\u001b[0m\u001b[1;33m\u001b[0m\u001b[1;33m\u001b[0m\u001b[0m\n\u001b[0m\u001b[0;32m    905\u001b[0m             \u001b[1;32mexcept\u001b[0m \u001b[0mException\u001b[0m \u001b[1;32mas\u001b[0m \u001b[0me\u001b[0m\u001b[1;33m:\u001b[0m\u001b[1;33m\u001b[0m\u001b[1;33m\u001b[0m\u001b[0m\n\u001b[0;32m    906\u001b[0m                 \u001b[0mself\u001b[0m\u001b[1;33m.\u001b[0m\u001b[0mlog\u001b[0m\u001b[1;33m.\u001b[0m\u001b[0mwarning\u001b[0m\u001b[1;33m(\u001b[0m\u001b[1;34m\"Invalid Message:\"\u001b[0m\u001b[1;33m,\u001b[0m \u001b[0mexc_info\u001b[0m\u001b[1;33m=\u001b[0m\u001b[1;32mTrue\u001b[0m\u001b[1;33m)\u001b[0m\u001b[1;33m\u001b[0m\u001b[1;33m\u001b[0m\u001b[0m\n",
      "\u001b[1;31mKeyboardInterrupt\u001b[0m: Interrupted by user"
     ]
    }
   ],
   "source": [
    "def get_name(doc_number = input('Введите номер документа, чтобы узнать имя владельца: ')):\n",
    "    for item in range(len(documents)):\n",
    "        if documents[item]['number'] == doc_number:\n",
    "            return documents[item]['name']\n",
    "    else:\n",
    "        print('Документ не существует')"
   ]
  },
  {
   "cell_type": "code",
   "execution_count": 5,
   "id": "616aec23",
   "metadata": {},
   "outputs": [
    {
     "name": "stdout",
     "output_type": "stream",
     "text": [
      "Введите номер документа, чтобы узнать номер полки: 123\n",
      "Документ не существует\n"
     ]
    }
   ],
   "source": [
    "def get_shelf(doc_num = input('Введите номер документа, чтобы узнать номер полки: ')):\n",
    "    for el in directories.items():\n",
    "        if doc_num in el[1]:\n",
    "            return el[0]\n",
    "    else:\n",
    "        print('Документ не существует')\n",
    "get_shelf()"
   ]
  },
  {
   "cell_type": "code",
   "execution_count": 6,
   "id": "3ff71243",
   "metadata": {},
   "outputs": [
    {
     "name": "stdout",
     "output_type": "stream",
     "text": [
      "passport 2207 876234 Василий Гупкин\n",
      "invoice 11-2 Геннадий Покемонов\n",
      "insurance 10006 Аристарх Павлов\n"
     ]
    }
   ],
   "source": [
    "def get_all_doc():\n",
    "    for doc in documents:\n",
    "        print(*doc.values())\n",
    "get_all_doc()      "
   ]
  },
  {
   "cell_type": "code",
   "execution_count": 63,
   "id": "18197544",
   "metadata": {},
   "outputs": [
    {
     "name": "stdout",
     "output_type": "stream",
     "text": [
      "{'1': ['1', '2', '3'], '2': ['4', '5', '6'], '3': []}\n"
     ]
    }
   ],
   "source": [
    "test = {\n",
    "    '1': ['1', '2', '3'],\n",
    "    '2': ['4', '5', '6'],\n",
    "    '3': []\n",
    "}\n",
    "print(test)"
   ]
  },
  {
   "cell_type": "code",
   "execution_count": 66,
   "id": "621ea0f3",
   "metadata": {},
   "outputs": [
    {
     "name": "stdout",
     "output_type": "stream",
     "text": [
      "1\n",
      "2\n",
      "3\n"
     ]
    }
   ],
   "source": [
    "for t in test:\n",
    "    print(t)"
   ]
  },
  {
   "cell_type": "code",
   "execution_count": 17,
   "id": "3bc58a19",
   "metadata": {},
   "outputs": [
    {
     "name": "stdout",
     "output_type": "stream",
     "text": [
      "Введите тип документа: passport\n",
      "Введите номер документа: 5666666\n",
      "Введите имя владельца документа: Pam\n",
      "Введите номер полки, на которой будет храниться документ: 2\n",
      "Документ добавлен в перечень\n"
     ]
    }
   ],
   "source": [
    "def new_doc(new_type = input('Введите тип документа: '), new_num = input('Введите номер документа: '),\n",
    "new_name = input('Введите имя владельца документа: '), shelf_num = input('Введите номер полки, на которой будет храниться документ: ')):\n",
    "    new_item = {}\n",
    "    new_item['type'] = new_type\n",
    "    new_item['number'] = new_num\n",
    "    new_item['name'] = new_name\n",
    "    documents.append(new_item)\n",
    "    print('Документ добавлен в перечень')\n",
    "    if int(shelf_num) == 1:\n",
    "        directories['1'].append(new_num)\n",
    "    elif int(shelf_num) == 2:\n",
    "        directories['2'].append(new_num)\n",
    "    elif int(shelf_num) == 3:\n",
    "        directories['3'].append(new_num)\n",
    "    else:\n",
    "        print('Полки с таким номером не существует')\n",
    "    \n",
    "new_doc()"
   ]
  },
  {
   "cell_type": "code",
   "execution_count": 18,
   "id": "e6826a45",
   "metadata": {},
   "outputs": [
    {
     "name": "stdout",
     "output_type": "stream",
     "text": [
      "[{'type': 'passport', 'number': '2207 876234', 'name': 'Василий Гупкин'}, {'type': 'invoice', 'number': '11-2', 'name': 'Геннадий Покемонов'}, {'type': 'insurance', 'number': '10006', 'name': 'Аристарх Павлов'}, {'type': 'passport', 'number': '5666666', 'name': 'Pam'}]\n",
      "{'1': ['2207 876234', '11-2', '5455 028765'], '2': ['10006', '5666666'], '3': []}\n"
     ]
    }
   ],
   "source": [
    "print(documents)\n",
    "print(directories)"
   ]
  },
  {
   "cell_type": "code",
   "execution_count": 8,
   "id": "0cc91cf7",
   "metadata": {},
   "outputs": [
    {
     "name": "stdout",
     "output_type": "stream",
     "text": [
      "Введите номер полки, на которой будет храниться документ: 6\n",
      "Полки с таким номером не существует\n",
      "Документ добавлен в перечень\n",
      "{'1': ['2207 876234', '11-2', '5455 028765', 5, '1'], '2': ['10006'], '3': []}\n"
     ]
    }
   ],
   "source": [
    "def add_to_shelf(shelf_num = input('Введите номер полки, на которой будет храниться документ: ')):\n",
    "    if int(shelf_num) == 1:\n",
    "        directories['1'].append(new_num)\n",
    "    elif int(shelf_num) == 2:\n",
    "        directories['2'].append(new_num)\n",
    "    elif int(shelf_num) == 3:\n",
    "        directories['3'].append(new_num)\n",
    "    else:\n",
    "        print('Полки с таким номером не существует')\n",
    "print('Документ добавлен в перечень')\n",
    "    print(directories)\n",
    "add_to_shelf()"
   ]
  },
  {
   "cell_type": "code",
   "execution_count": 6,
   "id": "013aab84",
   "metadata": {},
   "outputs": [
    {
     "name": "stdout",
     "output_type": "stream",
     "text": [
      "['2207 876234', '11-2', '5455 028765', 5]\n"
     ]
    }
   ],
   "source": [
    "x = 5\n",
    "directories['1'].append(x)\n",
    "print(directories['1'])"
   ]
  },
  {
   "cell_type": "code",
   "execution_count": 21,
   "id": "efe27035",
   "metadata": {},
   "outputs": [
    {
     "name": "stdout",
     "output_type": "stream",
     "text": [
      "Что Вы хотите сделать? (p/s/l/a): p\n"
     ]
    },
    {
     "ename": "NameError",
     "evalue": "name 'get_name' is not defined",
     "output_type": "error",
     "traceback": [
      "\u001b[1;31m---------------------------------------------------------------------------\u001b[0m",
      "\u001b[1;31mNameError\u001b[0m                                 Traceback (most recent call last)",
      "\u001b[1;32m<ipython-input-21-e531be659cfc>\u001b[0m in \u001b[0;36m<module>\u001b[1;34m\u001b[0m\n\u001b[0;32m      1\u001b[0m \u001b[0mcommand\u001b[0m \u001b[1;33m=\u001b[0m \u001b[0minput\u001b[0m\u001b[1;33m(\u001b[0m\u001b[1;34m'Что Вы хотите сделать? (p/s/l/a): '\u001b[0m\u001b[1;33m)\u001b[0m\u001b[1;33m\u001b[0m\u001b[1;33m\u001b[0m\u001b[0m\n\u001b[0;32m      2\u001b[0m \u001b[1;32mif\u001b[0m \u001b[0mcommand\u001b[0m \u001b[1;33m==\u001b[0m \u001b[1;34m'p'\u001b[0m\u001b[1;33m:\u001b[0m\u001b[1;33m\u001b[0m\u001b[1;33m\u001b[0m\u001b[0m\n\u001b[1;32m----> 3\u001b[1;33m     \u001b[0mget_name\u001b[0m\u001b[1;33m(\u001b[0m\u001b[1;33m)\u001b[0m\u001b[1;33m\u001b[0m\u001b[1;33m\u001b[0m\u001b[0m\n\u001b[0m\u001b[0;32m      4\u001b[0m \u001b[1;32melif\u001b[0m \u001b[0mcommand\u001b[0m \u001b[1;33m==\u001b[0m \u001b[1;34m's'\u001b[0m\u001b[1;33m:\u001b[0m\u001b[1;33m\u001b[0m\u001b[1;33m\u001b[0m\u001b[0m\n\u001b[0;32m      5\u001b[0m     \u001b[0mget_shelf\u001b[0m\u001b[1;33m(\u001b[0m\u001b[1;33m)\u001b[0m\u001b[1;33m\u001b[0m\u001b[1;33m\u001b[0m\u001b[0m\n",
      "\u001b[1;31mNameError\u001b[0m: name 'get_name' is not defined"
     ]
    }
   ],
   "source": [
    "command = input('Что Вы хотите сделать? (p/s/l/a): ')\n",
    "if command == 'p':\n",
    "    get_name()\n",
    "elif command == 's':\n",
    "    get_shelf()\n",
    "elif command == 'l':\n",
    "    get_all_doc()\n",
    "elif command == 'a':\n",
    "    new_doc()"
   ]
  },
  {
   "cell_type": "code",
   "execution_count": null,
   "id": "0ce2a3a5",
   "metadata": {},
   "outputs": [],
   "source": []
  }
 ],
 "metadata": {
  "kernelspec": {
   "display_name": "Python 3",
   "language": "python",
   "name": "python3"
  },
  "language_info": {
   "codemirror_mode": {
    "name": "ipython",
    "version": 3
   },
   "file_extension": ".py",
   "mimetype": "text/x-python",
   "name": "python",
   "nbconvert_exporter": "python",
   "pygments_lexer": "ipython3",
   "version": "3.8.8"
  }
 },
 "nbformat": 4,
 "nbformat_minor": 5
}
